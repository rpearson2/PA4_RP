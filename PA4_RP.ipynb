{
 "cells": [
  {
   "cell_type": "markdown",
   "id": "2366dc47",
   "metadata": {},
   "source": [
    "* Robert Pearson\n",
    "* Assignment 4\n",
    "* Version 1\n",
    "* Fall 2023"
   ]
  },
  {
   "cell_type": "markdown",
   "id": "55cfc76a",
   "metadata": {},
   "source": [
    "Task 1: Grade Calculator\n",
    "A. Create a list named grades containing five numerical grades (0-100).\n",
    "B. Calculate the average grade from the list.\n",
    "C. Use an if-else condition to determine the letter grade based on the average as follows:\n",
    "90-100: \"A\"\n",
    "80-89: \"B\"\n",
    "70-79: \"C\"\n",
    "60-69: \"D\"\n",
    "Below 60: \"F\"\n",
    "Print the average grade and corresponding letter grade."
   ]
  },
  {
   "cell_type": "code",
   "execution_count": 47,
   "id": "cf35157d",
   "metadata": {},
   "outputs": [
    {
     "name": "stdout",
     "output_type": "stream",
     "text": [
      "You average grade is 78.8\n",
      "Your grade is a C.\n"
     ]
    }
   ],
   "source": [
    "grades=[84,78,89,43,100]\n",
    "average_grade=sum(grades)/len(grades)\n",
    "print(\"You average grade is\", average_grade)\n",
    "if average_grade >=90 and average_grade <=100:\n",
    "    print(\" Your grade is an A.\")\n",
    "elif average_grade >=80 and average_grade <90:\n",
    "    print(\"Your grade is a B.\")\n",
    "elif average_grade >=70 and average_grade <80:\n",
    "    print(\"Your grade is a C.\")\n",
    "elif average_grade >=60 and average_grade <70:\n",
    "    print(\"Your grade is a D.\")\n",
    "else:\n",
    "    print(\"Your grade is a F.\")"
   ]
  },
  {
   "cell_type": "markdown",
   "id": "68a98cf4",
   "metadata": {},
   "source": [
    "Task 2: Tuple Unpacking\n",
    "A. Create a tuple named student with your first name, last name, age, and a subject (in that\n",
    "order).\n",
    "B. Use tuple unpacking and an if-else condition to check if the student's age is above 18.\n",
    "C. If the age is above 18, print a message indicating that the student is an adult, otherwise print\n",
    "a message indicating that the student is a minor."
   ]
  },
  {
   "cell_type": "code",
   "execution_count": 3,
   "id": "39981bea",
   "metadata": {},
   "outputs": [
    {
     "name": "stdout",
     "output_type": "stream",
     "text": [
      "The student is a minor.\n"
     ]
    }
   ],
   "source": [
    "student=('Robert','Pearson', 18, 'Math')\n",
    "first_name, last_name, age, subject=student\n",
    "if age>18:\n",
    "    print(\"The student is an adult.\")\n",
    "else:\n",
    "    print(\"The student is a minor.\")"
   ]
  },
  {
   "cell_type": "markdown",
   "id": "6758319c",
   "metadata": {},
   "source": [
    "Task 3: Month and date\n",
    "Write a Python program that will accept a number from 1 to 12 and display the name of the\n",
    "month and days in the month. Consider that the year is a regular year"
   ]
  },
  {
   "cell_type": "code",
   "execution_count": 23,
   "id": "27c9bb60",
   "metadata": {},
   "outputs": [
    {
     "name": "stdout",
     "output_type": "stream",
     "text": [
      "Enter a number from 1 to 12: 12\n",
      "December, 31 days\n"
     ]
    }
   ],
   "source": [
    "number=int(input(\"Enter a number from 1 to 12: \"))\n",
    "if number>=1 and number<=12:\n",
    "    if number==1:\n",
    "        print(\"January, 31 days\")\n",
    "    elif number==2:\n",
    "        print(\"February, 28 days\")\n",
    "    elif number==3:\n",
    "        print(\"March, 31 days\")\n",
    "    elif number==4:\n",
    "        print(\"April, 30 days\")\n",
    "    elif number==5:\n",
    "        print(\"May, 31 days\")\n",
    "    elif number==6:\n",
    "        print(\"June, 30 days\")\n",
    "    elif number==7:\n",
    "        print(\"July, 31 days\")\n",
    "    elif number==8:\n",
    "        print(\"August, 31 days\")\n",
    "    elif number==9:\n",
    "        print(\"September, 30 days\")\n",
    "    elif number==10:\n",
    "        print(\"October, 31 days\")\n",
    "    elif number==11:\n",
    "        print(\"November, 30 days\")\n",
    "    else:\n",
    "        print(\"December, 31 days\")\n",
    "else:\n",
    "    print(\"Your number is not within in the range of 1-12. Please enter another number.\")\n"
   ]
  },
  {
   "cell_type": "markdown",
   "id": "96aff407",
   "metadata": {},
   "source": [
    "Task 4: Triangle\n",
    "Accept three sides of a triangle and check whether it is an equilateral, isosceles, or scalene\n",
    "triangle."
   ]
  },
  {
   "cell_type": "code",
   "execution_count": 26,
   "id": "42f39c47",
   "metadata": {},
   "outputs": [
    {
     "name": "stdout",
     "output_type": "stream",
     "text": [
      "Enter the first side of the triangle: 1\n",
      "Enter the second side of the triangle: 4\n",
      "Enter the third side of the triangle: 7\n",
      "This is a scalene triangle.\n"
     ]
    }
   ],
   "source": [
    "side1=int(input(\"Enter the first side of the triangle: \"))\n",
    "side2=int(input(\"Enter the second side of the triangle: \"))\n",
    "side3=int(input(\"Enter the third side of the triangle: \"))\n",
    "\n",
    "if side1==side2 and side1==side3 and side2==side3:\n",
    "    print(\"This is an equilateral triangle.\")\n",
    "elif side1==side2 or side1==side3 or side2==side3:\n",
    "    print(\"This is an isosceles triangle.\")\n",
    "else:\n",
    "    print(\"This is a scalene triangle.\")"
   ]
  },
  {
   "cell_type": "markdown",
   "id": "82f14390",
   "metadata": {},
   "source": [
    "Task 5: List Comprehension and Filtering\n",
    "A. Create a list of named numbers containing integers from 21 to 40.\n",
    "     B. Use list comprehension to create a new list named even_squares containing the squares of\n",
    "even numbers from numbers.\n",
    "C. Use list comprehension to create a new list named odd_cubes containing the cubes of odd\n",
    "numbers from numbers"
   ]
  },
  {
   "cell_type": "code",
   "execution_count": 44,
   "id": "66a371c4",
   "metadata": {},
   "outputs": [
    {
     "name": "stdout",
     "output_type": "stream",
     "text": [
      "Original list: [21, 22, 23, 24, 25, 26, 27, 28, 29, 30, 31, 32, 33, 34, 35, 36, 37, 38, 39, 40]\n",
      "Even squares: [484, 576, 676, 784, 900, 1024, 1156, 1296, 1444, 1600]\n",
      "Odd cubes: [9261, 12167, 15625, 19683, 24389, 29791, 35937, 42875, 50653, 59319]\n"
     ]
    }
   ],
   "source": [
    "numbers=[i for i in range(21,41)]\n",
    "print(f\"Original list: {numbers}\")\n",
    "\n",
    "even_squares=[j**2 for j in numbers if j%2==0]\n",
    "print(f\"Even squares: {even_squares}\")\n",
    "\n",
    "odd_cubes=[k**3 for k in numbers if k%2!=0]\n",
    "print(f\"Odd cubes: {odd_cubes}\")"
   ]
  },
  {
   "cell_type": "code",
   "execution_count": null,
   "id": "bc4bd5d6",
   "metadata": {},
   "outputs": [],
   "source": []
  },
  {
   "cell_type": "code",
   "execution_count": null,
   "id": "04018dcb",
   "metadata": {},
   "outputs": [],
   "source": []
  }
 ],
 "metadata": {
  "kernelspec": {
   "display_name": "Python 3 (ipykernel)",
   "language": "python",
   "name": "python3"
  },
  "language_info": {
   "codemirror_mode": {
    "name": "ipython",
    "version": 3
   },
   "file_extension": ".py",
   "mimetype": "text/x-python",
   "name": "python",
   "nbconvert_exporter": "python",
   "pygments_lexer": "ipython3",
   "version": "3.11.4"
  }
 },
 "nbformat": 4,
 "nbformat_minor": 5
}
